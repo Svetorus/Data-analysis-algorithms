{
  "nbformat": 4,
  "nbformat_minor": 0,
  "metadata": {
    "colab": {
      "name": "Lesson2.ipynb",
      "provenance": [],
      "collapsed_sections": []
    },
    "kernelspec": {
      "name": "python3",
      "display_name": "Python 3"
    }
  },
  "cells": [
    {
      "cell_type": "code",
      "metadata": {
        "id": "_u5bV-OlT34p",
        "colab_type": "code",
        "colab": {}
      },
      "source": [
        "import numpy as np\n",
        "import matplotlib.pyplot as plt"
      ],
      "execution_count": 0,
      "outputs": []
    },
    {
      "cell_type": "code",
      "metadata": {
        "id": "_n6il-AZaLuA",
        "colab_type": "code",
        "colab": {}
      },
      "source": [
        "X = np.array([[1, 1, 1, 1, 1, 1, 1, 1, 1, 1],\n",
        "              [1, 1, 2, 1, 3, 0, 5, 10, 1, 2],\n",
        "              [500, 700, 750, 600, 1450,\n",
        "               800, 1500, 2000, 450, 1000],\n",
        "              [1, 1, 2, 1, 2, \n",
        "               1, 3, 3, 1, 2]])"
      ],
      "execution_count": 0,
      "outputs": []
    },
    {
      "cell_type": "code",
      "metadata": {
        "id": "x8yoci01ni-t",
        "colab_type": "code",
        "colab": {}
      },
      "source": [
        "y = [45, 55, 50, 59, 65,\n",
        "    35, 75, 80, 50, 60]"
      ],
      "execution_count": 0,
      "outputs": []
    },
    {
      "cell_type": "code",
      "metadata": {
        "id": "Ei5qeZO_aT6m",
        "colab_type": "code",
        "colab": {
          "base_uri": "https://localhost:8080/",
          "height": 34
        },
        "outputId": "087819d3-202a-46c9-f87d-49e17953099c"
      },
      "source": [
        "# Нормализация [0, 1]\n",
        "X[1].min(), X[1].max()"
      ],
      "execution_count": 3,
      "outputs": [
        {
          "output_type": "execute_result",
          "data": {
            "text/plain": [
              "(0, 10)"
            ]
          },
          "metadata": {
            "tags": []
          },
          "execution_count": 3
        }
      ]
    },
    {
      "cell_type": "code",
      "metadata": {
        "id": "L7wsW1Q7b4Ts",
        "colab_type": "code",
        "colab": {
          "base_uri": "https://localhost:8080/",
          "height": 34
        },
        "outputId": "911044d6-32c1-475a-80cd-cbaf26d5ba32"
      },
      "source": [
        "X[2].min(), X[2].max()"
      ],
      "execution_count": 6,
      "outputs": [
        {
          "output_type": "execute_result",
          "data": {
            "text/plain": [
              "(450, 2000)"
            ]
          },
          "metadata": {
            "tags": []
          },
          "execution_count": 6
        }
      ]
    },
    {
      "cell_type": "code",
      "metadata": {
        "id": "E55S9Bzob9Xa",
        "colab_type": "code",
        "colab": {
          "base_uri": "https://localhost:8080/",
          "height": 121
        },
        "outputId": "4abf56a2-d484-4c24-8520-8ed1b58ccca8"
      },
      "source": [
        "X_norm = X.copy()\n",
        "X_norm = X_norm.astype(np.float64)\n",
        "X_norm"
      ],
      "execution_count": 12,
      "outputs": [
        {
          "output_type": "execute_result",
          "data": {
            "text/plain": [
              "array([[1.00e+00, 1.00e+00, 1.00e+00, 1.00e+00, 1.00e+00, 1.00e+00,\n",
              "        1.00e+00, 1.00e+00, 1.00e+00, 1.00e+00],\n",
              "       [1.00e+00, 1.00e+00, 2.00e+00, 1.00e+00, 3.00e+00, 0.00e+00,\n",
              "        5.00e+00, 1.00e+01, 1.00e+00, 2.00e+00],\n",
              "       [5.00e+02, 7.00e+02, 7.50e+02, 6.00e+02, 1.45e+03, 8.00e+02,\n",
              "        1.50e+03, 2.00e+03, 4.50e+02, 1.00e+03]])"
            ]
          },
          "metadata": {
            "tags": []
          },
          "execution_count": 12
        }
      ]
    },
    {
      "cell_type": "code",
      "metadata": {
        "id": "7x-6IuPOcIo0",
        "colab_type": "code",
        "colab": {
          "base_uri": "https://localhost:8080/",
          "height": 121
        },
        "outputId": "1668fec7-37ae-4671-ad9f-f093c30a6c72"
      },
      "source": [
        "X_norm[1] = (X[1] - X[1].min()) / (X[1].max() - X[1].min())\n",
        "X_norm"
      ],
      "execution_count": 21,
      "outputs": [
        {
          "output_type": "execute_result",
          "data": {
            "text/plain": [
              "array([[1.00e+00, 1.00e+00, 1.00e+00, 1.00e+00, 1.00e+00, 1.00e+00,\n",
              "        1.00e+00, 1.00e+00, 1.00e+00, 1.00e+00],\n",
              "       [1.00e-01, 1.00e-01, 2.00e-01, 1.00e-01, 3.00e-01, 0.00e+00,\n",
              "        5.00e-01, 1.00e+00, 1.00e-01, 2.00e-01],\n",
              "       [5.00e+02, 7.00e+02, 7.50e+02, 6.00e+02, 1.45e+03, 8.00e+02,\n",
              "        1.50e+03, 2.00e+03, 4.50e+02, 1.00e+03]])"
            ]
          },
          "metadata": {
            "tags": []
          },
          "execution_count": 21
        }
      ]
    },
    {
      "cell_type": "code",
      "metadata": {
        "id": "izkMRdXFcjyK",
        "colab_type": "code",
        "colab": {
          "base_uri": "https://localhost:8080/",
          "height": 121
        },
        "outputId": "982b8c8d-629d-4c4a-a3d5-67854cee4a4a"
      },
      "source": [
        "X_norm[2] = (X[2] - X[2].min()) / (X[2].max() - X[2].min())\n",
        "X_norm"
      ],
      "execution_count": 22,
      "outputs": [
        {
          "output_type": "execute_result",
          "data": {
            "text/plain": [
              "array([[1.        , 1.        , 1.        , 1.        , 1.        ,\n",
              "        1.        , 1.        , 1.        , 1.        , 1.        ],\n",
              "       [0.1       , 0.1       , 0.2       , 0.1       , 0.3       ,\n",
              "        0.        , 0.5       , 1.        , 0.1       , 0.2       ],\n",
              "       [0.03225806, 0.16129032, 0.19354839, 0.09677419, 0.64516129,\n",
              "        0.22580645, 0.67741935, 1.        , 0.        , 0.35483871]])"
            ]
          },
          "metadata": {
            "tags": []
          },
          "execution_count": 22
        }
      ]
    },
    {
      "cell_type": "code",
      "metadata": {
        "id": "Zy63bpFfeqzu",
        "colab_type": "code",
        "colab": {}
      },
      "source": [
        "# Стандартизация"
      ],
      "execution_count": 0,
      "outputs": []
    },
    {
      "cell_type": "code",
      "metadata": {
        "id": "8i9pB-3-fMD4",
        "colab_type": "code",
        "colab": {
          "base_uri": "https://localhost:8080/",
          "height": 317
        },
        "outputId": "3cbe76f6-d000-4fcd-fe86-ffe853403356"
      },
      "source": [
        "plt.hist(X[1])"
      ],
      "execution_count": 24,
      "outputs": [
        {
          "output_type": "execute_result",
          "data": {
            "text/plain": [
              "(array([1., 4., 2., 1., 0., 1., 0., 0., 0., 1.]),\n",
              " array([ 0.,  1.,  2.,  3.,  4.,  5.,  6.,  7.,  8.,  9., 10.]),\n",
              " <a list of 10 Patch objects>)"
            ]
          },
          "metadata": {
            "tags": []
          },
          "execution_count": 24
        },
        {
          "output_type": "display_data",
          "data": {
            "image/png": "[encoded data removed]",
            "text/plain": [
              "<Figure size 432x288 with 1 Axes>"
            ]
          },
          "metadata": {
            "tags": []
          }
        }
      ]
    },
    {
      "cell_type": "code",
      "metadata": {
        "id": "-bnAYQqVfRX-",
        "colab_type": "code",
        "colab": {
          "base_uri": "https://localhost:8080/",
          "height": 335
        },
        "outputId": "d59b0013-49bc-40fa-cb29-e71403e6e9e0"
      },
      "source": [
        "plt.hist(X[2])"
      ],
      "execution_count": 25,
      "outputs": [
        {
          "output_type": "execute_result",
          "data": {
            "text/plain": [
              "(array([3., 2., 1., 1., 0., 0., 2., 0., 0., 1.]),\n",
              " array([ 450.,  605.,  760.,  915., 1070., 1225., 1380., 1535., 1690.,\n",
              "        1845., 2000.]),\n",
              " <a list of 10 Patch objects>)"
            ]
          },
          "metadata": {
            "tags": []
          },
          "execution_count": 25
        },
        {
          "output_type": "display_data",
          "data": {
            "image/png": "[encoded data removed]",
            "text/plain": [
              "<Figure size 432x288 with 1 Axes>"
            ]
          },
          "metadata": {
            "tags": []
          }
        }
      ]
    },
    {
      "cell_type": "code",
      "metadata": {
        "id": "eBMYUxGBfeGs",
        "colab_type": "code",
        "colab": {
          "base_uri": "https://localhost:8080/",
          "height": 34
        },
        "outputId": "3d6031a8-3489-4661-a4a9-62d0c94c7116"
      },
      "source": [
        "X1_mean = X[1].mean()\n",
        "X1_mean"
      ],
      "execution_count": 26,
      "outputs": [
        {
          "output_type": "execute_result",
          "data": {
            "text/plain": [
              "2.6"
            ]
          },
          "metadata": {
            "tags": []
          },
          "execution_count": 26
        }
      ]
    },
    {
      "cell_type": "code",
      "metadata": {
        "id": "KsBCCu-Cf45z",
        "colab_type": "code",
        "colab": {
          "base_uri": "https://localhost:8080/",
          "height": 34
        },
        "outputId": "e5c534cf-2e3c-4574-f281-3ae73c956783"
      },
      "source": [
        "X1_std = X[1].std()\n",
        "X1_std"
      ],
      "execution_count": 27,
      "outputs": [
        {
          "output_type": "execute_result",
          "data": {
            "text/plain": [
              "2.8000000000000003"
            ]
          },
          "metadata": {
            "tags": []
          },
          "execution_count": 27
        }
      ]
    },
    {
      "cell_type": "code",
      "metadata": {
        "id": "M57-Pzl_f_rF",
        "colab_type": "code",
        "colab": {}
      },
      "source": [
        "X_st = X.copy().astype(np.float64)"
      ],
      "execution_count": 0,
      "outputs": []
    },
    {
      "cell_type": "code",
      "metadata": {
        "id": "btJMY0YbgKLb",
        "colab_type": "code",
        "colab": {
          "base_uri": "https://localhost:8080/",
          "height": 294
        },
        "outputId": "40010205-def9-4582-9a5d-e513e85b7a4e"
      },
      "source": [
        "X_st[1] = (X[1] - X1_mean) / X1_std\n",
        "X_st"
      ],
      "execution_count": 81,
      "outputs": [
        {
          "output_type": "execute_result",
          "data": {
            "text/plain": [
              "array([[ 1.00000000e+00,  1.00000000e+00,  1.00000000e+00,\n",
              "         1.00000000e+00,  1.00000000e+00,  1.00000000e+00,\n",
              "         1.00000000e+00,  1.00000000e+00,  1.00000000e+00,\n",
              "         1.00000000e+00],\n",
              "       [-5.71428571e-01, -5.71428571e-01, -2.14285714e-01,\n",
              "        -5.71428571e-01,  1.42857143e-01, -9.28571429e-01,\n",
              "         8.57142857e-01,  2.64285714e+00, -5.71428571e-01,\n",
              "        -2.14285714e-01],\n",
              "       [ 5.00000000e+02,  7.00000000e+02,  7.50000000e+02,\n",
              "         6.00000000e+02,  1.45000000e+03,  8.00000000e+02,\n",
              "         1.50000000e+03,  2.00000000e+03,  4.50000000e+02,\n",
              "         1.00000000e+03],\n",
              "       [ 1.00000000e+00,  1.00000000e+00,  2.00000000e+00,\n",
              "         1.00000000e+00,  2.00000000e+00,  1.00000000e+00,\n",
              "         3.00000000e+00,  3.00000000e+00,  1.00000000e+00,\n",
              "         2.00000000e+00]])"
            ]
          },
          "metadata": {
            "tags": []
          },
          "execution_count": 81
        }
      ]
    },
    {
      "cell_type": "code",
      "metadata": {
        "id": "-Y1tzWGCgYjA",
        "colab_type": "code",
        "colab": {
          "base_uri": "https://localhost:8080/",
          "height": 352
        },
        "outputId": "89dc21fe-180f-4e68-f30f-1cf276c4f154"
      },
      "source": [
        "plt.hist(X_st[1])"
      ],
      "execution_count": 82,
      "outputs": [
        {
          "output_type": "execute_result",
          "data": {
            "text/plain": [
              "(array([1., 4., 2., 1., 1., 0., 0., 0., 0., 1.]),\n",
              " array([-0.92857143, -0.57142857, -0.21428571,  0.14285714,  0.5       ,\n",
              "         0.85714286,  1.21428571,  1.57142857,  1.92857143,  2.28571429,\n",
              "         2.64285714]),\n",
              " <a list of 10 Patch objects>)"
            ]
          },
          "metadata": {
            "tags": []
          },
          "execution_count": 82
        },
        {
          "output_type": "display_data",
          "data": {
            "image/png": "[encoded data removed]",
            "text/plain": [
              "<Figure size 432x288 with 1 Axes>"
            ]
          },
          "metadata": {
            "tags": []
          }
        }
      ]
    },
    {
      "cell_type": "code",
      "metadata": {
        "id": "ZlJUBOyzgkJV",
        "colab_type": "code",
        "colab": {}
      },
      "source": [
        "def calc_std_feat(x):\n",
        "  res = (x - x.mean()) / x.std()\n",
        "  return res\n",
        "  "
      ],
      "execution_count": 0,
      "outputs": []
    },
    {
      "cell_type": "code",
      "metadata": {
        "id": "6PlDlFY0hGZA",
        "colab_type": "code",
        "colab": {}
      },
      "source": [
        "X_st[2] = calc_std_feat(X[2])"
      ],
      "execution_count": 0,
      "outputs": []
    },
    {
      "cell_type": "code",
      "metadata": {
        "id": "LOKhmhJjt9TR",
        "colab_type": "code",
        "colab": {
          "base_uri": "https://localhost:8080/",
          "height": 155
        },
        "outputId": "2b131d78-9066-462b-dfa9-778758f3d363"
      },
      "source": [
        "X_st[3] = calc_std_feat(X[3])\n",
        "X_st"
      ],
      "execution_count": 85,
      "outputs": [
        {
          "output_type": "execute_result",
          "data": {
            "text/plain": [
              "array([[ 1.        ,  1.        ,  1.        ,  1.        ,  1.        ,\n",
              "         1.        ,  1.        ,  1.        ,  1.        ,  1.        ],\n",
              "       [-0.57142857, -0.57142857, -0.21428571, -0.57142857,  0.14285714,\n",
              "        -0.92857143,  0.85714286,  2.64285714, -0.57142857, -0.21428571],\n",
              "       [-0.97958969, -0.56713087, -0.46401617, -0.77336028,  0.97958969,\n",
              "        -0.36090146,  1.08270439,  2.11385144, -1.08270439,  0.05155735],\n",
              "       [-0.89625816, -0.89625816,  0.38411064, -0.89625816,  0.38411064,\n",
              "        -0.89625816,  1.66447944,  1.66447944, -0.89625816,  0.38411064]])"
            ]
          },
          "metadata": {
            "tags": []
          },
          "execution_count": 85
        }
      ]
    },
    {
      "cell_type": "code",
      "metadata": {
        "id": "UwiZ4UcOhQXX",
        "colab_type": "code",
        "colab": {
          "base_uri": "https://localhost:8080/",
          "height": 121
        },
        "outputId": "a4b1c355-12d6-49cf-f097-24af99872ab9"
      },
      "source": [
        "X_st"
      ],
      "execution_count": 37,
      "outputs": [
        {
          "output_type": "execute_result",
          "data": {
            "text/plain": [
              "array([[ 1.        ,  1.        ,  1.        ,  1.        ,  1.        ,\n",
              "         1.        ,  1.        ,  1.        ,  1.        ,  1.        ],\n",
              "       [-0.57142857, -0.57142857, -0.21428571, -0.57142857,  0.14285714,\n",
              "        -0.92857143,  0.85714286,  2.64285714, -0.57142857, -0.21428571],\n",
              "       [-0.97958969, -0.56713087, -0.46401617, -0.77336028,  0.97958969,\n",
              "        -0.36090146,  1.08270439,  2.11385144, -1.08270439,  0.05155735]])"
            ]
          },
          "metadata": {
            "tags": []
          },
          "execution_count": 37
        }
      ]
    },
    {
      "cell_type": "code",
      "metadata": {
        "id": "UdGy9tjVhZol",
        "colab_type": "code",
        "colab": {}
      },
      "source": [
        "# SGD"
      ],
      "execution_count": 0,
      "outputs": []
    },
    {
      "cell_type": "code",
      "metadata": {
        "id": "VDpN7UxYnrcS",
        "colab_type": "code",
        "colab": {}
      },
      "source": [
        "def calc_mse(y, y_pred):\n",
        "  err = np.mean((y - y_pred)**2)\n",
        "  return err"
      ],
      "execution_count": 0,
      "outputs": []
    },
    {
      "cell_type": "code",
      "metadata": {
        "id": "SgEyis2zlJeb",
        "colab_type": "code",
        "colab": {}
      },
      "source": [
        "def eval_model(X, y, iterations, alpha=1e-4):\n",
        "  W = np.random.randn(X.shape[0])\n",
        "  n = X.shape[1]\n",
        "  for i in range(1, iterations+1):\n",
        "    y_pred = np.dot(W, X)\n",
        "    err = calc_mse(y, y_pred)\n",
        "    W -= (alpha * (1/n * 2 * np.dot((y_pred - y), X.T)))\n",
        "    if i % (iterations / 10) == 0:\n",
        "      print(i, W, err)\n",
        "  return W"
      ],
      "execution_count": 0,
      "outputs": []
    },
    {
      "cell_type": "code",
      "metadata": {
        "id": "4nsYMAGjmFlB",
        "colab_type": "code",
        "colab": {
          "base_uri": "https://localhost:8080/",
          "height": 207
        },
        "outputId": "8959a8af-3d27-42a6-afae-5db46c794fe1"
      },
      "source": [
        "eval_model(X_st, y, iterations=1000, alpha=1e-2)"
      ],
      "execution_count": 87,
      "outputs": [
        {
          "output_type": "stream",
          "text": [
            "100 [49.51564875  3.10416379  4.22264429  4.26056563] 106.20068420664147\n",
            "200 [56.35438084  3.70915614  3.78985261  4.14046493] 42.03945871238899\n",
            "300 [57.26133045  4.17809877  3.41155221  4.05405453] 40.54798409226718\n",
            "400 [57.38160971  4.55220007  3.092868    4.00215769] 40.28244298254161\n",
            "500 [57.39756109  4.85144413  2.82468374  3.9741266 ] 40.11876726679888\n",
            "600 [57.39967655  5.09141706  2.59917725  3.96225682] 40.00948093305508\n",
            "700 [57.3999571   5.28433645  2.40969167  3.96104228] 39.93589747406598\n",
            "800 [57.39999431  5.43980353  2.25057411  3.96658435] 39.88607423801464\n",
            "900 [57.39999925  5.56538276  2.11703317  3.97615458] 39.85217641034068\n",
            "1000 [57.3999999   5.66704933  2.0050143   3.98787191] 39.829018493412406\n"
          ],
          "name": "stdout"
        },
        {
          "output_type": "execute_result",
          "data": {
            "text/plain": [
              "array([57.3999999 ,  5.66704933,  2.0050143 ,  3.98787191])"
            ]
          },
          "metadata": {
            "tags": []
          },
          "execution_count": 87
        }
      ]
    },
    {
      "cell_type": "code",
      "metadata": {
        "id": "nCcMmNdQmxDp",
        "colab_type": "code",
        "colab": {}
      },
      "source": [
        "def eval_sgd_model(X, y, iterations, qty_in_batch, alpha=1e-4):\n",
        "  W = np.random.randn(X.shape[0])\n",
        "  n = X.shape[1]\n",
        "  n_batch = n // qty_in_batch\n",
        "  if n % qty_in_batch != 0:\n",
        "    n_batch += 1\n",
        "  for i in range(1, iterations+1):\n",
        "    for b in range(n_batch):\n",
        "      start_ = qty_in_batch*b\n",
        "      end_ = qty_in_batch*(b+1)\n",
        "      \n",
        "      # print(b, n_batch, start_, end_)\n",
        "      \n",
        "      X_tmp = X[:, start_ : end_]\n",
        "      y_tmp = y[start_ : end_]\n",
        "      y_pred_tmp = np.dot(W, X_tmp)\n",
        "      err = calc_mse(y_tmp, y_pred_tmp)\n",
        "      W -= (alpha * (1/n * 2 * np.dot((y_pred_tmp - y_tmp), X_tmp.T)))\n",
        "    if i % (iterations / 10) == 0:\n",
        "      print(i, W, err)\n",
        "  return W"
      ],
      "execution_count": 0,
      "outputs": []
    },
    {
      "cell_type": "code",
      "metadata": {
        "id": "2aXap4Vsm3GV",
        "colab_type": "code",
        "colab": {
          "base_uri": "https://localhost:8080/",
          "height": 207
        },
        "outputId": "8b666b76-9d01-4b6d-813c-f1d3f5901f5f"
      },
      "source": [
        "eval_sgd_model(X_st, y, iterations=5000, qty_in_batch=5, alpha=1e-2)"
      ],
      "execution_count": 88,
      "outputs": [
        {
          "output_type": "stream",
          "text": [
            "500 [57.39726268  4.55486268  3.29160893  3.82761191] 43.02547594883363\n",
            "1000 [57.39848066  5.56475649  2.1896819   3.92849095] 40.307183452641354\n",
            "1500 [57.39805654  5.92467924  1.73509222  4.02728274] 39.1407614480174\n",
            "2000 [57.39789454  6.05859437  1.54882744  4.08143376] 38.639788666643184\n",
            "2500 [57.39783127  6.10998111  1.47281138  4.10682502] 38.42829674169019\n",
            "3000 [57.39780619  6.13011357  1.44186198  4.11795865] 38.34028624406049\n",
            "3500 [57.39779616  6.13810757  1.42927887  4.12267808] 38.30401284567157\n",
            "4000 [57.39779213  6.14130856  1.42416725  4.12464204] 38.28915375631344\n",
            "4500 [57.3977905   6.14259697  1.42209181  4.12545081] 38.28308978653288\n",
            "5000 [57.39778985  6.1431172   1.42124938  4.12578186] 38.280620796233606\n"
          ],
          "name": "stdout"
        },
        {
          "output_type": "execute_result",
          "data": {
            "text/plain": [
              "array([57.39778985,  6.1431172 ,  1.42124938,  4.12578186])"
            ]
          },
          "metadata": {
            "tags": []
          },
          "execution_count": 88
        }
      ]
    },
    {
      "cell_type": "code",
      "metadata": {
        "id": "DYTxT_6OrZpe",
        "colab_type": "code",
        "colab": {}
      },
      "source": [
        "# L1 регуляризация"
      ],
      "execution_count": 0,
      "outputs": []
    },
    {
      "cell_type": "code",
      "metadata": {
        "id": "Ojkn7xKrsyiw",
        "colab_type": "code",
        "colab": {}
      },
      "source": [
        "f(x, W) + (lambda_/2) * np.sum(np.abs(W))"
      ],
      "execution_count": 0,
      "outputs": []
    },
    {
      "cell_type": "code",
      "metadata": {
        "id": "j38vId7Hvtg0",
        "colab_type": "code",
        "colab": {}
      },
      "source": [
        "# L2 регуляризация"
      ],
      "execution_count": 0,
      "outputs": []
    },
    {
      "cell_type": "code",
      "metadata": {
        "id": "KO5BtZ7svv4k",
        "colab_type": "code",
        "colab": {}
      },
      "source": [
        "f(x, W) + (lambda_/2) * np.sum(W**2)"
      ],
      "execution_count": 0,
      "outputs": []
    },
    {
      "cell_type": "code",
      "metadata": {
        "id": "PKmpPziCv3IC",
        "colab_type": "code",
        "colab": {}
      },
      "source": [
        "f'(x, W) + lambda_ * np.sum(W)"
      ],
      "execution_count": 0,
      "outputs": []
    },
    {
      "cell_type": "code",
      "metadata": {
        "id": "7AVoe1Mswjni",
        "colab_type": "code",
        "colab": {}
      },
      "source": [
        "def eval_model_reg2(X, y, iterations, alpha=1e-4, lambda_=1e-8):\n",
        "  np.random.seed(42)\n",
        "  W = np.random.randn(X.shape[0])\n",
        "  n = X.shape[1]\n",
        "  for i in range(1, iterations+1):\n",
        "    y_pred = np.dot(W, X)\n",
        "    err = calc_mse(y, y_pred)\n",
        "    W -= alpha * (1/n * 2 * np.dot((y_pred - y), X.T) + lambda_ * W) \n",
        "    if i % (iterations / 10) == 0:\n",
        "      print(i, W, err)\n",
        "  return W"
      ],
      "execution_count": 0,
      "outputs": []
    },
    {
      "cell_type": "code",
      "metadata": {
        "id": "vLJL6j8Lw6OA",
        "colab_type": "code",
        "colab": {
          "base_uri": "https://localhost:8080/",
          "height": 207
        },
        "outputId": "dac9ef42-5966-4404-9346-aeb18cca83c6"
      },
      "source": [
        "eval_model_reg2(X_st, y, iterations=5000, alpha=1e-2, lambda_=1e-4)"
      ],
      "execution_count": 126,
      "outputs": [
        {
          "output_type": "stream",
          "text": [
            "500 [57.39479705  5.10767868  2.46037345  4.08674902] 39.98166412253417\n",
            "1000 [57.39713005  5.765859    1.85689028  4.03893236] 39.807231204063974\n",
            "1500 [57.39713014  5.99060723  1.60529698  4.06885866] 39.78240504280037\n",
            "2000 [57.39713014  6.07152025  1.50155606  4.09300748] 39.7785235657889\n",
            "2500 [57.39713014  6.10185559  1.45905205  4.10572941] 39.77788748617128\n",
            "3000 [57.39713014  6.11355928  1.44170275  4.11160375] 39.77777930470261\n",
            "3500 [57.39713014  6.11816175  1.43463681  4.11416107] 39.77775983405893\n",
            "4000 [57.39713014  6.11999396  1.43176283  4.1152412 ] 39.777755943216036\n",
            "4500 [57.39713014  6.12072893  1.43059479  4.11568989] 39.77775502451415\n",
            "5000 [57.39713014  6.12102515  1.4301203   4.11587451] 39.777754760507676\n"
          ],
          "name": "stdout"
        },
        {
          "output_type": "execute_result",
          "data": {
            "text/plain": [
              "array([57.39713014,  6.12102515,  1.4301203 ,  4.11587451])"
            ]
          },
          "metadata": {
            "tags": []
          },
          "execution_count": 126
        }
      ]
    },
    {
      "cell_type": "code",
      "metadata": {
        "id": "WLREMakFxQgX",
        "colab_type": "code",
        "colab": {}
      },
      "source": [
        "1/lambda"
      ],
      "execution_count": 0,
      "outputs": []
    }
  ]
}