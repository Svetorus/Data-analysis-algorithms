{
  "nbformat": 4,
  "nbformat_minor": 0,
  "metadata": {
    "kernelspec": {
      "display_name": "Python 3",
      "language": "python",
      "name": "python3"
    },
    "language_info": {
      "codemirror_mode": {
        "name": "ipython",
        "version": 3
      },
      "file_extension": ".py",
      "mimetype": "text/x-python",
      "name": "python",
      "nbconvert_exporter": "python",
      "pygments_lexer": "ipython3",
      "version": "3.7.1"
    },
    "colab": {
      "name": "Algoritm_6.ipynb",
      "provenance": [],
      "collapsed_sections": [],
      "include_colab_link": true
    }
  },
  "cells": [
    {
      "cell_type": "markdown",
      "metadata": {
        "id": "view-in-github",
        "colab_type": "text"
      },
      "source": [
        "<a href=\"https://colab.research.google.com/github/Svetorus/Data-analysis-algorithms/blob/master/Algoritm_6.ipynb\" target=\"_parent\"><img src=\"https://colab.research.google.com/assets/colab-badge.svg\" alt=\"Open In Colab\"/></a>"
      ]
    },
    {
      "cell_type": "markdown",
      "metadata": {
        "id": "41AitfhKbsha",
        "colab_type": "text"
      },
      "source": [
        "# Урок 6. Градиентный бустинг"
      ]
    },
    {
      "cell_type": "code",
      "metadata": {
        "id": "-SBzs_mvXHkL",
        "colab_type": "code",
        "colab": {}
      },
      "source": [
        "AdaBoost"
      ],
      "execution_count": 0,
      "outputs": []
    },
    {
      "cell_type": "code",
      "metadata": {
        "id": "-mRz6N8cXHpV",
        "colab_type": "code",
        "colab": {}
      },
      "source": [
        "tree1, tree2, tree3"
      ],
      "execution_count": 0,
      "outputs": []
    },
    {
      "cell_type": "code",
      "metadata": {
        "id": "LgjooNSnXHuL",
        "colab_type": "code",
        "colab": {}
      },
      "source": [
        "b0 = np.argmax([y == y1])"
      ],
      "execution_count": 0,
      "outputs": []
    },
    {
      "cell_type": "code",
      "metadata": {
        "id": "qpNzEZozXHyv",
        "colab_type": "code",
        "colab": {}
      },
      "source": [
        "98% - class 0"
      ],
      "execution_count": 0,
      "outputs": []
    },
    {
      "cell_type": "code",
      "metadata": {
        "id": "j_DTmk6VXH8O",
        "colab_type": "code",
        "colab": {}
      },
      "source": [
        "2% - class 1"
      ],
      "execution_count": 0,
      "outputs": []
    },
    {
      "cell_type": "code",
      "metadata": {
        "id": "LChh9I33XIBF",
        "colab_type": "code",
        "colab": {}
      },
      "source": [
        "y_pred = 0"
      ],
      "execution_count": 0,
      "outputs": []
    },
    {
      "cell_type": "code",
      "metadata": {
        "id": "nFJpBjeXXIEX",
        "colab_type": "code",
        "colab": {}
      },
      "source": [
        "b0 = np.mean(y)"
      ],
      "execution_count": 0,
      "outputs": []
    },
    {
      "cell_type": "code",
      "metadata": {
        "id": "DeYO97alXH_l",
        "colab_type": "code",
        "colab": {}
      },
      "source": [
        "y_pred = b0"
      ],
      "execution_count": 0,
      "outputs": []
    },
    {
      "cell_type": "code",
      "metadata": {
        "id": "ePpLZvPwXH4R",
        "colab_type": "code",
        "colab": {}
      },
      "source": [
        "s - вектор сдвига"
      ],
      "execution_count": 0,
      "outputs": []
    },
    {
      "cell_type": "code",
      "metadata": {
        "id": "Qk-74OFhbshx",
        "colab_type": "code",
        "colab": {}
      },
      "source": [
        "from sklearn.tree import DecisionTreeRegressor\n",
        "\n",
        "from sklearn import model_selection\n",
        "import numpy as np"
      ],
      "execution_count": 0,
      "outputs": []
    },
    {
      "cell_type": "code",
      "metadata": {
        "id": "eDZbSvqMbsh1",
        "colab_type": "code",
        "colab": {}
      },
      "source": [
        "from sklearn.datasets import load_diabetes"
      ],
      "execution_count": 0,
      "outputs": []
    },
    {
      "cell_type": "code",
      "metadata": {
        "id": "leu8bBI7bsh6",
        "colab_type": "code",
        "colab": {}
      },
      "source": [
        "X, y = load_diabetes(return_X_y=True)"
      ],
      "execution_count": 0,
      "outputs": []
    },
    {
      "cell_type": "code",
      "metadata": {
        "id": "ExZPR9FLbsh9",
        "colab_type": "code",
        "colab": {}
      },
      "source": [
        "X_train, X_test, y_train, y_test = model_selection.train_test_split(X, y, test_size=0.25)"
      ],
      "execution_count": 0,
      "outputs": []
    },
    {
      "cell_type": "markdown",
      "metadata": {
        "id": "7xJCdggZbsh_",
        "colab_type": "text"
      },
      "source": [
        "Напишем функцию, реализующую предсказание в градиентном бустинге."
      ]
    },
    {
      "cell_type": "code",
      "metadata": {
        "id": "wU_Rkc63bsiA",
        "colab_type": "code",
        "colab": {}
      },
      "source": [
        "def gb_predict(X, trees_list, coef_list, eta):\n",
        "    return np.array([sum([eta* coef * alg.predict([x])[0] for alg, coef in zip(trees_list, coef_list)]) for x in X])"
      ],
      "execution_count": 0,
      "outputs": []
    },
    {
      "cell_type": "markdown",
      "metadata": {
        "id": "6gZvsyfSbsiD",
        "colab_type": "text"
      },
      "source": [
        "В качестве функционала ошибки будем использовать среднеквадратичную ошибку. Реализуем соответствующую функицию."
      ]
    },
    {
      "cell_type": "code",
      "metadata": {
        "id": "0xbjFIEKbsiE",
        "colab_type": "code",
        "colab": {}
      },
      "source": [
        "def mean_squared_error(y_real, prediction):\n",
        "    return (sum((y_real - prediction)**2)) / len(y_real)"
      ],
      "execution_count": 0,
      "outputs": []
    },
    {
      "cell_type": "code",
      "metadata": {
        "id": "WRaZEd3ebsiI",
        "colab_type": "code",
        "colab": {}
      },
      "source": [
        "def bias(y, z):\n",
        "    return (y - z)"
      ],
      "execution_count": 0,
      "outputs": []
    },
    {
      "cell_type": "markdown",
      "metadata": {
        "id": "ut-7dBgVbsiK",
        "colab_type": "text"
      },
      "source": [
        "Реализуем функцию обучения градиентного бустинга."
      ]
    },
    {
      "cell_type": "code",
      "metadata": {
        "id": "HoIdAoPYbsiL",
        "colab_type": "code",
        "colab": {}
      },
      "source": [
        "def gb_fit(n_trees, max_depth, X_train, X_test, y_train, y_test, coefs, eta):\n",
        "    \n",
        "    # Деревья будем записывать в список\n",
        "    trees = []\n",
        "    \n",
        "    # Будем записывать ошибки на обучающей и тестовой выборке на каждой итерации в список\n",
        "    train_errors = []\n",
        "    test_errors = []\n",
        "    \n",
        "    for i in range(n_trees):\n",
        "        tree = DecisionTreeRegressor(max_depth=max_depth, random_state=42)\n",
        "\n",
        "        # инициализируем бустинг начальным алгоритмом, возвращающим ноль, \n",
        "        # поэтому первый алгоритм просто обучаем на выборке и добавляем в список\n",
        "        if len(trees) == 0:\n",
        "            # обучаем первое дерево на обучающей выборке\n",
        "            tree.fit(X_train, y_train)\n",
        "            \n",
        "            train_errors.append(mean_squared_error(y_train, gb_predict(X_train, trees, coefs, eta)))\n",
        "            test_errors.append(mean_squared_error(y_test, gb_predict(X_test, trees, coefs, eta)))\n",
        "        else:\n",
        "            # Получим ответы на текущей композиции\n",
        "            target = gb_predict(X_train, trees, coefs, eta)\n",
        "            \n",
        "            # алгоритмы начиная со второго обучаем на сдвиг\n",
        "            tree.fit(X_train, bias(y_train, target))\n",
        "            \n",
        "            train_errors.append(mean_squared_error(y_train, gb_predict(X_train, trees, coefs, eta)))\n",
        "            test_errors.append(mean_squared_error(y_test, gb_predict(X_test, trees, coefs, eta)))\n",
        "\n",
        "        trees.append(tree)\n",
        "        \n",
        "    return trees, train_errors, test_errors"
      ],
      "execution_count": 0,
      "outputs": []
    },
    {
      "cell_type": "markdown",
      "metadata": {
        "id": "0vkHFhhzbsiN",
        "colab_type": "text"
      },
      "source": [
        "Теперь обучим несколько моделей с разными параметрами и исследуем их поведение."
      ]
    },
    {
      "cell_type": "code",
      "metadata": {
        "id": "2WvxluSlbsiO",
        "colab_type": "code",
        "colab": {}
      },
      "source": [
        "# Число деревьев в ансамбле\n",
        "n_trees = 10\n",
        "\n",
        "# для простоты примем коэффициенты равными 1\n",
        "coefs = [1] * n_trees\n",
        "\n",
        "# Максимальная глубина деревьев\n",
        "max_depth = 3\n",
        "\n",
        "# Шаг\n",
        "eta = 1\n",
        "\n",
        "trees, train_errors, test_errors = gb_fit(n_trees, max_depth, X_train, X_test, y_train, y_test, coefs, eta)"
      ],
      "execution_count": 0,
      "outputs": []
    },
    {
      "cell_type": "code",
      "metadata": {
        "id": "GDMFn3R-bsiR",
        "colab_type": "code",
        "colab": {}
      },
      "source": [
        "def evaluate_alg(X_train, X_test, y_train, y_test, trees, coefs, eta):\n",
        "    train_prediction = gb_predict(X_train, trees, coefs, eta)\n",
        "\n",
        "    print(f'Ошибка алгоритма из {n_trees} деревьев глубиной {max_depth} \\\n",
        "    с шагом {eta} на тренировочной выборке: {mean_squared_error(y_train, train_prediction)}')\n",
        "\n",
        "    test_prediction = gb_predict(X_test, trees, coefs, eta)\n",
        "\n",
        "    print(f'Ошибка алгоритма из {n_trees} деревьев глубиной {max_depth} \\\n",
        "    с шагом {eta} на тестовой выборке: {mean_squared_error(y_test, test_prediction)}')"
      ],
      "execution_count": 0,
      "outputs": []
    },
    {
      "cell_type": "code",
      "metadata": {
        "id": "WEBbjCynbsiV",
        "colab_type": "code",
        "outputId": "e3e7bf19-aa15-4340-eceb-e2799f36140c",
        "colab": {}
      },
      "source": [
        "evaluate_alg(X_train, X_test, y_train, y_test, trees, coefs, eta)"
      ],
      "execution_count": 0,
      "outputs": [
        {
          "output_type": "stream",
          "text": [
            "Ошибка алгоритма из 10 деревьев глубиной 3     с шагом 1 на тестовой выборке: 1015.4156847256496\n",
            "Ошибка алгоритма из 10 деревьев глубиной 3     с шагом 1 на тестовой выборке: 4608.154944098474\n"
          ],
          "name": "stdout"
        }
      ]
    },
    {
      "cell_type": "markdown",
      "metadata": {
        "id": "TluGn7Iubsib",
        "colab_type": "text"
      },
      "source": [
        "Построим графики зависимости ошибки на обучающей и тестовой выборках от числа итераций."
      ]
    },
    {
      "cell_type": "code",
      "metadata": {
        "id": "QXrSdSgjbsic",
        "colab_type": "code",
        "colab": {}
      },
      "source": [
        "import matplotlib.pyplot as plt"
      ],
      "execution_count": 0,
      "outputs": []
    },
    {
      "cell_type": "code",
      "metadata": {
        "id": "gjDdKkgObsif",
        "colab_type": "code",
        "colab": {}
      },
      "source": [
        "def get_error_plot(n_trees, train_err, test_err):\n",
        "    plt.xlabel('Iteration number')\n",
        "    plt.ylabel('MSE')\n",
        "    plt.xlim(0, n_trees)\n",
        "    plt.plot(list(range(n_trees)), train_err, label='train error')\n",
        "    plt.plot(list(range(n_trees)), test_err, label='test error')\n",
        "    plt.legend(loc='upper right')\n",
        "    plt.show()"
      ],
      "execution_count": 0,
      "outputs": []
    },
    {
      "cell_type": "code",
      "metadata": {
        "id": "Was5hOJPbsih",
        "colab_type": "code",
        "outputId": "e4a4837d-6d3e-4861-8a35-fa26d5746f62",
        "colab": {}
      },
      "source": [
        "get_error_plot(n_trees, train_errors, test_errors)"
      ],
      "execution_count": 0,
      "outputs": [
        {
          "output_type": "display_data",
          "data": {
            "image/png": "[encoded data removed]",
            "text/plain": [
              "<Figure size 432x288 with 1 Axes>"
            ]
          },
          "metadata": {
            "tags": [],
            "needs_background": "light"
          }
        }
      ]
    },
    {
      "cell_type": "markdown",
      "metadata": {
        "id": "NS16dUwRbsik",
        "colab_type": "text"
      },
      "source": [
        "Такой результат не является удовлетворительным"
      ]
    },
    {
      "cell_type": "markdown",
      "metadata": {
        "id": "9n8R32khbsil",
        "colab_type": "text"
      },
      "source": [
        "Увеличим число деревьев."
      ]
    },
    {
      "cell_type": "code",
      "metadata": {
        "id": "SdiTyDJrbsil",
        "colab_type": "code",
        "colab": {}
      },
      "source": [
        "n_trees = 100\n",
        "coefs = [1] * n_trees\n",
        "\n",
        "trees, train_errors, test_errors = gb_fit(n_trees, max_depth, X_train, X_test, y_train, y_test, coefs, eta)"
      ],
      "execution_count": 0,
      "outputs": []
    },
    {
      "cell_type": "code",
      "metadata": {
        "id": "PZ2BU15lbsin",
        "colab_type": "code",
        "outputId": "3223b2d8-6cba-451f-9af7-dfc89cc2fe22",
        "colab": {}
      },
      "source": [
        "evaluate_alg(X_train, X_test, y_train, y_test, trees, coefs, eta)"
      ],
      "execution_count": 0,
      "outputs": [
        {
          "output_type": "stream",
          "text": [
            "Ошибка алгоритма из 100 деревьев глубиной 3     с шагом 1 на тестовой выборке: 1.7265791546321152\n",
            "Ошибка алгоритма из 100 деревьев глубиной 3     с шагом 1 на тестовой выборке: 6484.072784838465\n"
          ],
          "name": "stdout"
        }
      ]
    },
    {
      "cell_type": "code",
      "metadata": {
        "id": "Wuls3BYWbsip",
        "colab_type": "code",
        "outputId": "3055e9f7-0063-40af-a6a7-849d06f24a7d",
        "colab": {}
      },
      "source": [
        "get_error_plot(n_trees, train_errors, test_errors)"
      ],
      "execution_count": 0,
      "outputs": [
        {
          "output_type": "display_data",
          "data": {
            "image/png": "[encoded data removed]",
            "text/plain": [
              "<Figure size 432x288 with 1 Axes>"
            ]
          },
          "metadata": {
            "tags": [],
            "needs_background": "light"
          }
        }
      ]
    },
    {
      "cell_type": "markdown",
      "metadata": {
        "id": "V2gubWC0bsis",
        "colab_type": "text"
      },
      "source": [
        "Теперь попробуем уменьшить шаг."
      ]
    },
    {
      "cell_type": "code",
      "metadata": {
        "id": "SqfMt3KMbsis",
        "colab_type": "code",
        "colab": {}
      },
      "source": [
        "eta = 0.1\n",
        "\n",
        "trees, train_errors, test_errors = gb_fit(n_trees, max_depth, X_train, X_test, y_train, y_test, coefs, eta)"
      ],
      "execution_count": 0,
      "outputs": []
    },
    {
      "cell_type": "code",
      "metadata": {
        "id": "0Rkc97-ibsiu",
        "colab_type": "code",
        "outputId": "c4a5a6e3-81d6-460f-ccaa-1ada3bcdb959",
        "colab": {}
      },
      "source": [
        "evaluate_alg(X_train, X_test, y_train, y_test, trees, coefs, eta)"
      ],
      "execution_count": 0,
      "outputs": [
        {
          "output_type": "stream",
          "text": [
            "Ошибка алгоритма из 100 деревьев глубиной 3     с шагом 0.1 на тестовой выборке: 859.8977633738986\n",
            "Ошибка алгоритма из 100 деревьев глубиной 3     с шагом 0.1 на тестовой выборке: 2996.752189363781\n"
          ],
          "name": "stdout"
        }
      ]
    },
    {
      "cell_type": "code",
      "metadata": {
        "id": "x0Ij4Fbrbsiw",
        "colab_type": "code",
        "outputId": "9083ac69-d276-4faf-b01c-62403302c29c",
        "colab": {}
      },
      "source": [
        "get_error_plot(n_trees, train_errors, test_errors)"
      ],
      "execution_count": 0,
      "outputs": [
        {
          "output_type": "display_data",
          "data": {
            "image/png": "[encoded data removed]",
            "text/plain": [
              "<Figure size 432x288 with 1 Axes>"
            ]
          },
          "metadata": {
            "tags": [],
            "needs_background": "light"
          }
        }
      ]
    },
    {
      "cell_type": "markdown",
      "metadata": {
        "id": "NOM9bowjbsiy",
        "colab_type": "text"
      },
      "source": [
        "Видим, что качество обучения улучшается."
      ]
    },
    {
      "cell_type": "markdown",
      "metadata": {
        "id": "OCU1ZgSxbsi0",
        "colab_type": "text"
      },
      "source": [
        "Уменьшим шаг до 0.01."
      ]
    },
    {
      "cell_type": "code",
      "metadata": {
        "id": "QvDpXS-Ybsi1",
        "colab_type": "code",
        "colab": {}
      },
      "source": [
        "eta = 0.01\n",
        "\n",
        "trees, train_errors, test_errors = gb_fit(n_trees, max_depth, X_train, X_test, y_train, y_test, coefs, eta)"
      ],
      "execution_count": 0,
      "outputs": []
    },
    {
      "cell_type": "code",
      "metadata": {
        "id": "l7l4ckNubsi4",
        "colab_type": "code",
        "outputId": "9ec51d03-e81f-4538-d27c-6af1e211c590",
        "colab": {}
      },
      "source": [
        "evaluate_alg(X_train, X_test, y_train, y_test, trees, coefs, eta)"
      ],
      "execution_count": 0,
      "outputs": [
        {
          "output_type": "stream",
          "text": [
            "Ошибка алгоритма из 100 деревьев глубиной 3     с шагом 0.01 на тестовой выборке: 6207.954604977746\n",
            "Ошибка алгоритма из 100 деревьев глубиной 3     с шагом 0.01 на тестовой выборке: 5741.637498355119\n"
          ],
          "name": "stdout"
        }
      ]
    },
    {
      "cell_type": "code",
      "metadata": {
        "id": "L0dPsV_9bsi5",
        "colab_type": "code",
        "outputId": "ea0709a1-f420-4cbd-c7fe-75c7b5f64c79",
        "colab": {}
      },
      "source": [
        "get_error_plot(n_trees, train_errors, test_errors)"
      ],
      "execution_count": 0,
      "outputs": [
        {
          "output_type": "display_data",
          "data": {
            "image/png": "[encoded data removed]",
            "text/plain": [
              "<Figure size 432x288 with 1 Axes>"
            ]
          },
          "metadata": {
            "tags": [],
            "needs_background": "light"
          }
        }
      ]
    },
    {
      "cell_type": "markdown",
      "metadata": {
        "id": "YTHcPMYhbsi7",
        "colab_type": "text"
      },
      "source": [
        "При таком размере шага алгоритм сходится, но ему для достижения удовлетворительных показателей требуется большее количество итераций."
      ]
    },
    {
      "cell_type": "markdown",
      "metadata": {
        "id": "CoXzz4Fhbsi8",
        "colab_type": "text"
      },
      "source": [
        "Вернемся к шагу 0.1 и попробуем увеличить глубину деревьев"
      ]
    },
    {
      "cell_type": "code",
      "metadata": {
        "id": "hvLCSptsbsi8",
        "colab_type": "code",
        "colab": {}
      },
      "source": [
        "eta = 0.1\n",
        "max_depth = 5\n",
        "\n",
        "trees, train_errors, test_errors = gb_fit(n_trees, max_depth, X_train, X_test, y_train, y_test, coefs, eta)"
      ],
      "execution_count": 0,
      "outputs": []
    },
    {
      "cell_type": "code",
      "metadata": {
        "id": "H493-X9Cbsi-",
        "colab_type": "code",
        "outputId": "e77fb1e7-8723-49cb-de74-55806e798d02",
        "colab": {}
      },
      "source": [
        "evaluate_alg(X_train, X_test, y_train, y_test, trees, coefs, eta)"
      ],
      "execution_count": 0,
      "outputs": [
        {
          "output_type": "stream",
          "text": [
            "Ошибка алгоритма из 100 деревьев глубиной 5     с шагом 0.1 на тестовой выборке: 77.29688138661494\n",
            "Ошибка алгоритма из 100 деревьев глубиной 5     с шагом 0.1 на тестовой выборке: 3301.476746312546\n"
          ],
          "name": "stdout"
        }
      ]
    },
    {
      "cell_type": "code",
      "metadata": {
        "id": "1ZGS4hIMbsjB",
        "colab_type": "code",
        "outputId": "41d3b3a2-3d0a-4b82-d850-f9216261481a",
        "colab": {}
      },
      "source": [
        "get_error_plot(n_trees, train_errors, test_errors)"
      ],
      "execution_count": 0,
      "outputs": [
        {
          "output_type": "display_data",
          "data": {
            "image/png": "[encoded data removed]",
            "text/plain": [
              "<Figure size 432x288 with 1 Axes>"
            ]
          },
          "metadata": {
            "tags": [],
            "needs_background": "light"
          }
        }
      ]
    },
    {
      "cell_type": "markdown",
      "metadata": {
        "id": "Z2tMUhhXbsjK",
        "colab_type": "text"
      },
      "source": [
        "## AdaBoost"
      ]
    },
    {
      "cell_type": "code",
      "metadata": {
        "id": "AMMYdEpSbsjM",
        "colab_type": "code",
        "colab": {}
      },
      "source": [
        "from sklearn.tree import DecisionTreeClassifier\n",
        "from sklearn.datasets import load_breast_cancer"
      ],
      "execution_count": 0,
      "outputs": []
    },
    {
      "cell_type": "code",
      "metadata": {
        "id": "2cQW-bglbsjP",
        "colab_type": "code",
        "colab": {}
      },
      "source": [
        "X, y = load_breast_cancer(return_X_y=True)"
      ],
      "execution_count": 0,
      "outputs": []
    },
    {
      "cell_type": "markdown",
      "metadata": {
        "id": "HbArvbGPbsjS",
        "colab_type": "text"
      },
      "source": [
        "Разделим выборку на обучающую и тестовую"
      ]
    },
    {
      "cell_type": "code",
      "metadata": {
        "id": "-3Q2bSlibsjV",
        "colab_type": "code",
        "colab": {}
      },
      "source": [
        "X_train, X_test, y_train, y_test = model_selection.train_test_split(X, y, test_size=0.25)"
      ],
      "execution_count": 0,
      "outputs": []
    },
    {
      "cell_type": "markdown",
      "metadata": {
        "id": "C-YeAmXObsjZ",
        "colab_type": "text"
      },
      "source": [
        "Реализуем функцию подсчета ошибки"
      ]
    },
    {
      "cell_type": "code",
      "metadata": {
        "id": "qxVwBxTtbsja",
        "colab_type": "code",
        "colab": {}
      },
      "source": [
        "def get_error(pred, y):\n",
        "    return sum(pred != y) / len(y)"
      ],
      "execution_count": 0,
      "outputs": []
    },
    {
      "cell_type": "markdown",
      "metadata": {
        "id": "xVRjV3Rubsjb",
        "colab_type": "text"
      },
      "source": [
        "И сам алгоритм"
      ]
    },
    {
      "cell_type": "code",
      "metadata": {
        "id": "wiKx_qKObsjb",
        "colab_type": "code",
        "colab": {}
      },
      "source": [
        "def adaboost(X, y, N):\n",
        "\n",
        "    # Размер выборки\n",
        "    n_objects = len(X)\n",
        "\n",
        "    # Запишем количество классов в переменную\n",
        "    n_classes = len(np.unique((y)))\n",
        "\n",
        "    # Начальные веса деревьев\n",
        "    w = np.ones(n_objects) / n_objects\n",
        "\n",
        "    # Деревья с весами будем записывать в список\n",
        "    models = []\n",
        "\n",
        "    for n in range(N):\n",
        "        # Зададим дерево и обучим его\n",
        "        clf = DecisionTreeClassifier(max_depth=1)\n",
        "        clf.fit(X, y, sample_weight=w)\n",
        "\n",
        "        predictions = clf.predict(X)\n",
        "        e = get_error(predictions, y)\n",
        "        # отбросим дерево, если его ошибка больше 0.5\n",
        "        # Запишем условие в общем виде (применимо к небинарным классификаторам)\n",
        "        if e >= 1 - 1/n_classes: \n",
        "            break\n",
        "\n",
        "        # Вычислим вес для дерева\n",
        "        alpha = 0.5 * np.log((1 - e) / e)\n",
        "\n",
        "        # Найдем индексы правильно классифицированных элементов\n",
        "        match = predictions == y\n",
        "\n",
        "        # Увеличим веса для неправильно классифицированных элементов\n",
        "        w[~match] *= np.exp(alpha)\n",
        "\n",
        "        # Нормализуем веса\n",
        "        w /= w.sum()\n",
        "\n",
        "        # Добавим дерево с весом в список\n",
        "        models.append((alpha, clf))\n",
        "    \n",
        "    return models"
      ],
      "execution_count": 0,
      "outputs": []
    },
    {
      "cell_type": "markdown",
      "metadata": {
        "id": "GCRBLGmYbsjd",
        "colab_type": "text"
      },
      "source": [
        "Обучим алгоритм из 50 деревьев"
      ]
    },
    {
      "cell_type": "code",
      "metadata": {
        "id": "M2QwLTjkbsje",
        "colab_type": "code",
        "colab": {}
      },
      "source": [
        "N = 50\n",
        "\n",
        "models = adaboost(X_train, y_train, N)"
      ],
      "execution_count": 0,
      "outputs": []
    },
    {
      "cell_type": "markdown",
      "metadata": {
        "id": "pf6R7t9Wbsjg",
        "colab_type": "text"
      },
      "source": [
        "Теперь осуществим предсказание"
      ]
    },
    {
      "cell_type": "code",
      "metadata": {
        "id": "1cRftLvhbsjg",
        "colab_type": "code",
        "outputId": "c89e1b01-378e-4247-cc75-1f2ea03412cc",
        "colab": {}
      },
      "source": [
        "def predict(X, models):\n",
        "    \n",
        "    n_classes = 2\n",
        "    n_objects = len(X)\n",
        "    \n",
        "    # вначале обозначим предсказание нулевым массивом\n",
        "    y_pred = np.zeros((n_objects, n_classes))\n",
        "    \n",
        "    for alpha, clf in models:\n",
        "        prediction = clf.predict(X)\n",
        "        # Для каждого предсказания будем прибавлять alpha к\n",
        "        # элементу с индексом предсказанного класса\n",
        "        y_pred[range(n_objects), prediction] += alpha\n",
        "    \n",
        "    # выберем индексы с максимальными суммарными весами -\n",
        "    # получим предсказанные алгоритмом классы\n",
        "    y_pred = np.argmax(y_pred, axis=1)\n",
        "    \n",
        "    return y_pred\n",
        "\n",
        "print(f'Точность алгоритма на обучающей выборке: {(1 - get_error(predict(X_train, models), y_train)) * 100:.3f}')"
      ],
      "execution_count": 0,
      "outputs": [
        {
          "output_type": "stream",
          "text": [
            "Точность алгоритма на обучающей выборке: 97.887\n"
          ],
          "name": "stdout"
        }
      ]
    },
    {
      "cell_type": "code",
      "metadata": {
        "id": "AIOQigknbsjj",
        "colab_type": "code",
        "outputId": "eeb0e739-498b-4f52-bf6c-dc6bd9e71c08",
        "colab": {}
      },
      "source": [
        "print(f'Точность алгоритма на тестовой выборке: {(1 - get_error(predict(X_test, models), y_test)) * 100:.3f}')"
      ],
      "execution_count": 0,
      "outputs": [
        {
          "output_type": "stream",
          "text": [
            "Точность алгоритма на тестовой выборке: 96.503\n"
          ],
          "name": "stdout"
        }
      ]
    },
    {
      "cell_type": "markdown",
      "metadata": {
        "id": "64NptCn3bsjm",
        "colab_type": "text"
      },
      "source": [
        "Построим графики зависимости ошибки от количества базовых алгоритмов в ансамбле."
      ]
    },
    {
      "cell_type": "code",
      "metadata": {
        "id": "f2diAmLwbsjn",
        "colab_type": "code",
        "colab": {}
      },
      "source": [
        "train_errors = []\n",
        "test_errors = []\n",
        "\n",
        "for n in range(1, 31):\n",
        "    mods = adaboost(X_train, y_train, n)\n",
        "    train_errors.append(get_error(predict(X_train, mods), y_train))\n",
        "    test_errors.append(get_error(predict(X_test, mods), y_test))"
      ],
      "execution_count": 0,
      "outputs": []
    },
    {
      "cell_type": "code",
      "metadata": {
        "id": "ufw5bo9Lbsjp",
        "colab_type": "code",
        "outputId": "9fdac949-034b-4855-dc60-992ec96a072c",
        "colab": {}
      },
      "source": [
        "x = list(range(1, 31))\n",
        "\n",
        "plt.xlim(0, 30)\n",
        "plt.plot(x, train_errors, label='train errors')\n",
        "plt.plot(x, test_errors, label='test errors')\n",
        "plt.xlabel('N')\n",
        "plt.ylabel('Accuracy')\n",
        "plt.legend(loc='upper right')"
      ],
      "execution_count": 0,
      "outputs": [
        {
          "output_type": "execute_result",
          "data": {
            "text/plain": [
              "<matplotlib.legend.Legend at 0x7f00d25cc1d0>"
            ]
          },
          "metadata": {
            "tags": []
          },
          "execution_count": 36
        },
        {
          "output_type": "display_data",
          "data": {
            "image/png": "[encoded data removed]",
            "text/plain": [
              "<Figure size 432x288 with 1 Axes>"
            ]
          },
          "metadata": {
            "tags": [],
            "needs_background": "light"
          }
        }
      ]
    },
    {
      "cell_type": "markdown",
      "metadata": {
        "id": "qXx50ZQEi7Ez",
        "colab_type": "text"
      },
      "source": [
        "### Домашнее задание\n",
        "1. Для реализованной модели построить графики зависимости ошибки от количества деревьев в ансамбле и от максимальной глубины деревьев. Сделать выводы о зависимости ошибки от этих параметров.\n",
        "\n",
        "2. Модифицировать реализованный алгоритм, чтобы получился стохастический градиентный бустинг. Размер подвыборки принять равным 0.5. Сравнить на одном графике кривые изменения ошибки на тестовой выборке в зависимости от числа итераций."
      ]
    },
    {
      "cell_type": "code",
      "metadata": {
        "id": "jtD8x98oW_Mi",
        "colab_type": "code",
        "colab": {}
      },
      "source": [
        ""
      ],
      "execution_count": 0,
      "outputs": []
    },
    {
      "cell_type": "code",
      "metadata": {
        "id": "Lyjk5a5ejOon",
        "colab_type": "code",
        "colab": {}
      },
      "source": [
        ""
      ],
      "execution_count": 0,
      "outputs": []
    },
    {
      "cell_type": "code",
      "metadata": {
        "id": "T_j21rctjOrn",
        "colab_type": "code",
        "colab": {}
      },
      "source": [
        ""
      ],
      "execution_count": 0,
      "outputs": []
    },
    {
      "cell_type": "code",
      "metadata": {
        "id": "u0kzVAYwjOu4",
        "colab_type": "code",
        "colab": {}
      },
      "source": [
        ""
      ],
      "execution_count": 0,
      "outputs": []
    },
    {
      "cell_type": "code",
      "metadata": {
        "id": "f9bhkP11jOxl",
        "colab_type": "code",
        "colab": {}
      },
      "source": [
        ""
      ],
      "execution_count": 0,
      "outputs": []
    }
  ]
}