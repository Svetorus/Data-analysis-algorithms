{
  "nbformat": 4,
  "nbformat_minor": 0,
  "metadata": {
    "colab": {
      "name": "Algoritm_8.ipynb",
      "provenance": [],
      "collapsed_sections": [],
      "include_colab_link": true
    },
    "kernelspec": {
      "name": "python3",
      "display_name": "Python 3"
    }
  },
  "cells": [
    {
      "cell_type": "markdown",
      "metadata": {
        "id": "view-in-github",
        "colab_type": "text"
      },
      "source": [
        "<a href=\"https://colab.research.google.com/github/Svetorus/Data-analysis-algorithms/blob/master/Algoritm_8.ipynb\" target=\"_parent\"><img src=\"https://colab.research.google.com/assets/colab-badge.svg\" alt=\"Open In Colab\"/></a>"
      ]
    },
    {
      "cell_type": "code",
      "metadata": {
        "id": "HZBI7k6kO0hG",
        "colab_type": "code",
        "colab": {}
      },
      "source": [
        "import numpy as np\n",
        "import matplotlib.pyplot as plt\n",
        "\n",
        "from sklearn import datasets\n",
        "from sklearn.metrics import accuracy_score\n",
        "from sklearn.model_selection import train_test_split\n",
        "\n",
        "%matplotlib inline"
      ],
      "execution_count": 0,
      "outputs": []
    },
    {
      "cell_type": "code",
      "metadata": {
        "id": "PGNHF9tJPDTz",
        "colab_type": "code",
        "colab": {
          "base_uri": "https://localhost:8080/",
          "height": 34
        },
        "outputId": "f4974d2c-57f4-419b-8626-e5c098ef2e01"
      },
      "source": [
        "# Загрузим игрушечный датасет из sklearn\n",
        "iris = datasets.load_iris()\n",
        "X = iris.data\n",
        "y = iris.target\n",
        "\n",
        "X.shape"
      ],
      "execution_count": 3,
      "outputs": [
        {
          "output_type": "execute_result",
          "data": {
            "text/plain": [
              "(150, 4)"
            ]
          },
          "metadata": {
            "tags": []
          },
          "execution_count": 3
        }
      ]
    },
    {
      "cell_type": "markdown",
      "metadata": {
        "id": "HBtYjU-cPKYt",
        "colab_type": "text"
      },
      "source": [
        "### 1) Можно ли отобрать наиболее значимые признаки с помощью PCA?\n",
        "\n",
        "Нет, поскольку отбор признаков и метод главных компонент - это разные методы решения задачи понижения размерности данных. Метод главных компонент задействует все исходные признаки $X$, создавая через линейную комбинацию новые, меньшей размерности: $Z=X\\cdot W$.\n",
        "\n",
        "### 3*). Написать свою реализацию метода главных компонент с помощью сингулярного разложения с использованием функции numpy.linalg.svd()\n",
        "\n",
        "## Стандартизация данных"
      ]
    },
    {
      "cell_type": "code",
      "metadata": {
        "id": "DpGnie5GPDWm",
        "colab_type": "code",
        "colab": {}
      },
      "source": [
        "means = X.mean(axis=0)\n",
        "stds = X.std(axis=0, ddof=1)\n",
        "\n",
        "X_scaled = (X - means)/stds"
      ],
      "execution_count": 0,
      "outputs": []
    },
    {
      "cell_type": "markdown",
      "metadata": {
        "id": "SljtGSUjPV0P",
        "colab_type": "text"
      },
      "source": [
        "### Норма Фробениуса  \n",
        "$\\left \\| A \\right \\|_{F}=\\sqrt{\\sum_{i=1}^{m}\\sum_{j=1}^{n}a_{ij}^{2}}$"
      ]
    },
    {
      "cell_type": "code",
      "metadata": {
        "id": "4e4KizJBPDZX",
        "colab_type": "code",
        "colab": {}
      },
      "source": [
        "def fro_norm(X):\n",
        "    return np.sum(X ** 2) ** 0.5"
      ],
      "execution_count": 0,
      "outputs": []
    },
    {
      "cell_type": "markdown",
      "metadata": {
        "id": "Qv1ot3yVPhc0",
        "colab_type": "text"
      },
      "source": [
        "### Метод главных компонент через SVD"
      ]
    },
    {
      "cell_type": "code",
      "metadata": {
        "id": "n5CuHboqPDfB",
        "colab_type": "code",
        "colab": {}
      },
      "source": [
        "def pca_with_svd(X, n_components):\n",
        "    U, s, Vt = np.linalg.svd(X)\n",
        "    \n",
        "    D = np.zeros_like(X, dtype=float)\n",
        "    D[np.diag_indices(min(X.shape))] = s\n",
        "    V = Vt.T\n",
        "    \n",
        "    # проверка\n",
        "    np.testing.assert_array_almost_equal(U.dot(D).dot(Vt), X)\n",
        "    \n",
        "    W = V[:, :n_components]\n",
        "    Z = X.dot(W)\n",
        "    \n",
        "    return Z"
      ],
      "execution_count": 0,
      "outputs": []
    },
    {
      "cell_type": "markdown",
      "metadata": {
        "id": "H4Wm0q26PkWe",
        "colab_type": "text"
      },
      "source": [
        "### Поиск главных компонент"
      ]
    },
    {
      "cell_type": "code",
      "metadata": {
        "id": "2gxX_DvQPDhq",
        "colab_type": "code",
        "colab": {}
      },
      "source": [
        "X_pca_4 = pca_with_svd(X_scaled, n_components=4)\n",
        "X_pca_3 = pca_with_svd(X_scaled, n_components=3)\n",
        "X_pca_2 = pca_with_svd(X_scaled, n_components=2)\n",
        "X_pca_1 = pca_with_svd(X_scaled, n_components=1)"
      ],
      "execution_count": 0,
      "outputs": []
    },
    {
      "cell_type": "code",
      "metadata": {
        "id": "64SmSyz7PnzH",
        "colab_type": "code",
        "colab": {
          "base_uri": "https://localhost:8080/",
          "height": 119
        },
        "outputId": "b7c120ff-600b-4420-97d3-e9fb5a62305b"
      },
      "source": [
        "print('Норма Фробениуса')\n",
        "print(f' - исходной матрицы X:   {fro_norm(X_scaled)}')\n",
        "print(f' - четырех ГК матрицы X: {fro_norm(X_pca_4)}')\n",
        "print(f' - трех ГК матрицы X:    {fro_norm(X_pca_3)}')\n",
        "print(f' - двух ГК матрицы X:    {fro_norm(X_pca_2)}')\n",
        "print(f' - одной ГК матрицы X:   {fro_norm(X_pca_1)}')"
      ],
      "execution_count": 11,
      "outputs": [
        {
          "output_type": "stream",
          "text": [
            "Норма Фробениуса\n",
            " - исходной матрицы X:   24.413111231467408\n",
            " - четырех ГК матрицы X: 24.413111231467404\n",
            " - трех ГК матрицы X:    24.349814976137612\n",
            " - двух ГК матрицы X:    23.896583749816823\n",
            " - одной ГК матрицы X:   20.853205381026367\n"
          ],
          "name": "stdout"
        }
      ]
    },
    {
      "cell_type": "markdown",
      "metadata": {
        "id": "fR1GekLwPtlE",
        "colab_type": "text"
      },
      "source": [
        "\n",
        "Заметно уменьшение нормы Фробениуса с понижением количества главных компонент."
      ]
    }
  ]
}