{
  "nbformat": 4,
  "nbformat_minor": 0,
  "metadata": {
    "colab": {
      "name": "Algoritm_1.ipynb",
      "provenance": [],
      "collapsed_sections": [],
      "include_colab_link": true
    },
    "kernelspec": {
      "display_name": "Python 3",
      "language": "python",
      "name": "python3"
    }
  },
  "cells": [
    {
      "cell_type": "markdown",
      "metadata": {
        "id": "view-in-github",
        "colab_type": "text"
      },
      "source": [
        "<a href=\"https://colab.research.google.com/github/Svetorus/Data-analysis-algorithms/blob/master/Algoritm_1.ipynb\" target=\"_parent\"><img src=\"https://colab.research.google.com/assets/colab-badge.svg\" alt=\"Open In Colab\"/></a>"
      ]
    },
    {
      "cell_type": "code",
      "metadata": {
        "colab_type": "code",
        "id": "ak8b3KV45kVW",
        "colab": {}
      },
      "source": [
        "import numpy as np\n",
        "import matplotlib.pyplot as plt"
      ],
      "execution_count": 0,
      "outputs": []
    },
    {
      "cell_type": "code",
      "metadata": {
        "colab_type": "code",
        "id": "i77tZbAd5plB",
        "colab": {}
      },
      "source": [
        "X = np.array([[1, 1, 1, 1, 1,\n",
        "               1, 1, 1, 1, 1],\n",
        "              [1, 1, 2, 1, 3, \n",
        "               0, 5, 10, 1, 2]])"
      ],
      "execution_count": 0,
      "outputs": []
    },
    {
      "cell_type": "code",
      "metadata": {
        "colab_type": "code",
        "id": "U3vVuLOc6Us6",
        "outputId": "0ba90b57-253e-43b2-b8b3-83746fc9d9e9",
        "colab": {
          "base_uri": "https://localhost:8080/",
          "height": 51
        }
      },
      "source": [
        "X"
      ],
      "execution_count": 3,
      "outputs": [
        {
          "output_type": "execute_result",
          "data": {
            "text/plain": [
              "array([[ 1,  1,  1,  1,  1,  1,  1,  1,  1,  1],\n",
              "       [ 1,  1,  2,  1,  3,  0,  5, 10,  1,  2]])"
            ]
          },
          "metadata": {
            "tags": []
          },
          "execution_count": 3
        }
      ]
    },
    {
      "cell_type": "code",
      "metadata": {
        "colab_type": "code",
        "id": "ejifaMBe6VaP",
        "outputId": "4d4b4336-0e48-49ec-96da-88194fd5766e",
        "colab": {
          "base_uri": "https://localhost:8080/",
          "height": 34
        }
      },
      "source": [
        "X.shape"
      ],
      "execution_count": 4,
      "outputs": [
        {
          "output_type": "execute_result",
          "data": {
            "text/plain": [
              "(2, 10)"
            ]
          },
          "metadata": {
            "tags": []
          },
          "execution_count": 4
        }
      ]
    },
    {
      "cell_type": "code",
      "metadata": {
        "colab_type": "code",
        "id": "VsNrKi1Q6Wmh",
        "colab": {}
      },
      "source": [
        "y = [45, 55, 50, 59, 65,\n",
        "    35, 75, 80, 50, 60]"
      ],
      "execution_count": 0,
      "outputs": []
    },
    {
      "cell_type": "code",
      "metadata": {
        "colab_type": "code",
        "id": "OTikrodr6n-i",
        "outputId": "6b31718b-cb80-4f6c-f2cc-ca861dbf67b3",
        "colab": {
          "base_uri": "https://localhost:8080/",
          "height": 282
        }
      },
      "source": [
        "plt.scatter(X[1], y)\n",
        "plt.plot(X[1], 35*np.ones(10) + X[1]*5)\n",
        "plt.plot(X[1], 40*np.ones(10) + X[1]*7.5)"
      ],
      "execution_count": 6,
      "outputs": [
        {
          "output_type": "execute_result",
          "data": {
            "text/plain": [
              "[<matplotlib.lines.Line2D at 0x7fcd7d278eb8>]"
            ]
          },
          "metadata": {
            "tags": []
          },
          "execution_count": 6
        },
        {
          "output_type": "display_data",
          "data": {
            "image/png": "[encoded data removed]",
            "text/plain": [
              "<Figure size 432x288 with 1 Axes>"
            ]
          },
          "metadata": {
            "tags": []
          }
        }
      ]
    },
    {
      "cell_type": "code",
      "metadata": {
        "colab_type": "code",
        "id": "NntLxvtU7CbH",
        "colab": {}
      },
      "source": [
        "y_pred1 = 35*np.ones(10) + X[1]*5\n",
        "y_pred2 = 40*np.ones(10) + X[1]*7.5"
      ],
      "execution_count": 0,
      "outputs": []
    },
    {
      "cell_type": "code",
      "metadata": {
        "colab_type": "code",
        "id": "XsDNASCq9VBe",
        "outputId": "579d34e0-5b11-44b4-9053-8e558deed1b9",
        "colab": {
          "base_uri": "https://localhost:8080/",
          "height": 51
        }
      },
      "source": [
        "y_pred2"
      ],
      "execution_count": 8,
      "outputs": [
        {
          "output_type": "execute_result",
          "data": {
            "text/plain": [
              "array([ 47.5,  47.5,  55. ,  47.5,  62.5,  40. ,  77.5, 115. ,  47.5,\n",
              "        55. ])"
            ]
          },
          "metadata": {
            "tags": []
          },
          "execution_count": 8
        }
      ]
    },
    {
      "cell_type": "code",
      "metadata": {
        "colab_type": "code",
        "id": "zbsqjAxH9WqI",
        "colab": {}
      },
      "source": [
        "err1 = np.sum(y - y_pred1)\n",
        "err2 = np.sum(y - y_pred2)"
      ],
      "execution_count": 0,
      "outputs": []
    },
    {
      "cell_type": "code",
      "metadata": {
        "colab_type": "code",
        "id": "Axgh3H5y9dgg",
        "outputId": "d8483a07-8be8-4fb4-c5af-ba1b5c98cded",
        "colab": {
          "base_uri": "https://localhost:8080/",
          "height": 34
        }
      },
      "source": [
        "err1, err2"
      ],
      "execution_count": 10,
      "outputs": [
        {
          "output_type": "execute_result",
          "data": {
            "text/plain": [
              "(94.0, -21.0)"
            ]
          },
          "metadata": {
            "tags": []
          },
          "execution_count": 10
        }
      ]
    },
    {
      "cell_type": "code",
      "metadata": {
        "colab_type": "code",
        "id": "vUqCthPf9eYI",
        "colab": {}
      },
      "source": [
        "mae_1 = np.sum(np.abs(y - y_pred1)) / 10\n",
        "mae_2 = np.sum(np.abs(y - y_pred2)) / 10"
      ],
      "execution_count": 0,
      "outputs": []
    },
    {
      "cell_type": "code",
      "metadata": {
        "colab_type": "code",
        "id": "AmiioF1Y_CUu",
        "outputId": "363f62d3-c95b-40c1-fbcb-3ce077de06d1",
        "colab": {
          "base_uri": "https://localhost:8080/",
          "height": 34
        }
      },
      "source": [
        "mae_1, mae_2"
      ],
      "execution_count": 12,
      "outputs": [
        {
          "output_type": "execute_result",
          "data": {
            "text/plain": [
              "(10.4, 7.9)"
            ]
          },
          "metadata": {
            "tags": []
          },
          "execution_count": 12
        }
      ]
    },
    {
      "cell_type": "code",
      "metadata": {
        "colab_type": "code",
        "id": "XTn2bZIg_EBS",
        "colab": {}
      },
      "source": [
        "mse_1 = np.mean((y - y_pred1)**2)\n",
        "mse_2 = np.mean((y - y_pred2)**2)"
      ],
      "execution_count": 0,
      "outputs": []
    },
    {
      "cell_type": "code",
      "metadata": {
        "colab_type": "code",
        "id": "IB1ltZNE_gCI",
        "outputId": "f457e616-775c-4246-8c87-d7b5460505d4",
        "colab": {
          "base_uri": "https://localhost:8080/",
          "height": 34
        }
      },
      "source": [
        "mse_1, mse_2"
      ],
      "execution_count": 14,
      "outputs": [
        {
          "output_type": "execute_result",
          "data": {
            "text/plain": [
              "(143.6, 151.35)"
            ]
          },
          "metadata": {
            "tags": []
          },
          "execution_count": 14
        }
      ]
    },
    {
      "cell_type": "markdown",
      "metadata": {
        "colab_type": "text",
        "id": "R4zHyZ2Da5HV"
      },
      "source": [
        "Метод наименьших квадратов"
      ]
    },
    {
      "cell_type": "code",
      "metadata": {
        "colab_type": "code",
        "id": "GEeiext0BR1m",
        "outputId": "483a21b8-64d3-4641-8c33-b5d8c0d5a9b4",
        "colab": {
          "base_uri": "https://localhost:8080/",
          "height": 34
        }
      },
      "source": [
        "X.shape"
      ],
      "execution_count": 15,
      "outputs": [
        {
          "output_type": "execute_result",
          "data": {
            "text/plain": [
              "(2, 10)"
            ]
          },
          "metadata": {
            "tags": []
          },
          "execution_count": 15
        }
      ]
    },
    {
      "cell_type": "code",
      "metadata": {
        "colab_type": "code",
        "id": "j1BN1FZHBVo8",
        "outputId": "08270f18-f226-45ec-c0bd-c7fe7daa8fba",
        "colab": {
          "base_uri": "https://localhost:8080/",
          "height": 34
        }
      },
      "source": [
        "X.T.shape"
      ],
      "execution_count": 16,
      "outputs": [
        {
          "output_type": "execute_result",
          "data": {
            "text/plain": [
              "(10, 2)"
            ]
          },
          "metadata": {
            "tags": []
          },
          "execution_count": 16
        }
      ]
    },
    {
      "cell_type": "code",
      "metadata": {
        "colab_type": "code",
        "id": "mnyZzkaDBegD",
        "outputId": "a6eead68-8ed8-44f1-94d0-041a4459b994",
        "colab": {
          "base_uri": "https://localhost:8080/",
          "height": 34
        }
      },
      "source": [
        "W = np.linalg.inv(np.dot(X, X.T)) @ X @ y\n",
        "W"
      ],
      "execution_count": 17,
      "outputs": [
        {
          "output_type": "execute_result",
          "data": {
            "text/plain": [
              "array([47.23214286,  3.91071429])"
            ]
          },
          "metadata": {
            "tags": []
          },
          "execution_count": 17
        }
      ]
    },
    {
      "cell_type": "code",
      "metadata": {
        "colab_type": "code",
        "id": "Lyg-J3H7Bnv5",
        "outputId": "93a60470-fd80-4714-912b-a81260e59642",
        "colab": {
          "base_uri": "https://localhost:8080/",
          "height": 282
        }
      },
      "source": [
        "plt.scatter(X[1], y)\n",
        "plt.plot(X[1], 35*np.ones(10) + X[1]*5)\n",
        "plt.plot(X[1], 40*np.ones(10) + X[1]*7.5)\n",
        "plt.plot(X[1], W[0] + W[1] * X[1])"
      ],
      "execution_count": 18,
      "outputs": [
        {
          "output_type": "execute_result",
          "data": {
            "text/plain": [
              "[<matplotlib.lines.Line2D at 0x7fcd7a5d99b0>]"
            ]
          },
          "metadata": {
            "tags": []
          },
          "execution_count": 18
        },
        {
          "output_type": "display_data",
          "data": {
            "image/png": "[encoded data removed]",
            "text/plain": [
              "<Figure size 432x288 with 1 Axes>"
            ]
          },
          "metadata": {
            "tags": []
          }
        }
      ]
    },
    {
      "cell_type": "code",
      "metadata": {
        "colab_type": "code",
        "id": "JTSC2cFnCd8T",
        "colab": {}
      },
      "source": [
        "def calc_mse(y, y_pred):\n",
        "  err = np.mean((y - y_pred)**2)\n",
        "  return err"
      ],
      "execution_count": 0,
      "outputs": []
    },
    {
      "cell_type": "code",
      "metadata": {
        "colab_type": "code",
        "id": "MYSrwISJDGfS",
        "outputId": "f000496d-6faf-4b33-ca14-3a7e71c0f0eb",
        "colab": {
          "base_uri": "https://localhost:8080/",
          "height": 34
        }
      },
      "source": [
        "calc_mse(y, y_pred1)"
      ],
      "execution_count": 20,
      "outputs": [
        {
          "output_type": "execute_result",
          "data": {
            "text/plain": [
              "143.6"
            ]
          },
          "metadata": {
            "tags": []
          },
          "execution_count": 20
        }
      ]
    },
    {
      "cell_type": "code",
      "metadata": {
        "colab_type": "code",
        "id": "BoU7Rm_1DPQq",
        "colab": {}
      },
      "source": [
        "def calc_mae(y, y_pred):\n",
        "  err = np.mean(np.abs(y - y_pred))\n",
        "  return err"
      ],
      "execution_count": 0,
      "outputs": []
    },
    {
      "cell_type": "code",
      "metadata": {
        "colab_type": "code",
        "id": "AaE_x_nCDW3x",
        "outputId": "671a4c25-36cc-4375-ca2c-0af680b75f35",
        "colab": {
          "base_uri": "https://localhost:8080/",
          "height": 34
        }
      },
      "source": [
        "calc_mae(y, y_pred1)"
      ],
      "execution_count": 22,
      "outputs": [
        {
          "output_type": "execute_result",
          "data": {
            "text/plain": [
              "10.4"
            ]
          },
          "metadata": {
            "tags": []
          },
          "execution_count": 22
        }
      ]
    },
    {
      "cell_type": "code",
      "metadata": {
        "colab_type": "code",
        "id": "Yxo6vu3NDaTC",
        "outputId": "3db55a5f-4441-461f-ef1f-9cd3c8fb6e62",
        "colab": {
          "base_uri": "https://localhost:8080/",
          "height": 51
        }
      },
      "source": [
        "y_pred3 = W[0] + W[1] * X[1]\n",
        "y_pred3"
      ],
      "execution_count": 23,
      "outputs": [
        {
          "output_type": "execute_result",
          "data": {
            "text/plain": [
              "array([51.14285714, 51.14285714, 55.05357143, 51.14285714, 58.96428571,\n",
              "       47.23214286, 66.78571429, 86.33928571, 51.14285714, 55.05357143])"
            ]
          },
          "metadata": {
            "tags": []
          },
          "execution_count": 23
        }
      ]
    },
    {
      "cell_type": "code",
      "metadata": {
        "colab_type": "code",
        "id": "_WtO6lvhDmQ6",
        "outputId": "e80d040f-0ebe-4434-948e-eb4e81eea95e",
        "colab": {
          "base_uri": "https://localhost:8080/",
          "height": 34
        }
      },
      "source": [
        "calc_mse(y, y_pred3)"
      ],
      "execution_count": 24,
      "outputs": [
        {
          "output_type": "execute_result",
          "data": {
            "text/plain": [
              "45.93750000000002"
            ]
          },
          "metadata": {
            "tags": []
          },
          "execution_count": 24
        }
      ]
    },
    {
      "cell_type": "code",
      "metadata": {
        "colab_type": "code",
        "id": "ul3IEwWlDp-e",
        "outputId": "6463f732-8910-4d77-faa0-4c86783b91b6",
        "colab": {
          "base_uri": "https://localhost:8080/",
          "height": 34
        }
      },
      "source": [
        "calc_mae(y, y_pred3)"
      ],
      "execution_count": 25,
      "outputs": [
        {
          "output_type": "execute_result",
          "data": {
            "text/plain": [
              "6.182142857142859"
            ]
          },
          "metadata": {
            "tags": []
          },
          "execution_count": 25
        }
      ]
    },
    {
      "cell_type": "markdown",
      "metadata": {
        "colab_type": "text",
        "id": "JAOgIXLRa--g"
      },
      "source": [
        "Градиентный спуск"
      ]
    },
    {
      "cell_type": "code",
      "metadata": {
        "colab_type": "code",
        "id": "DNebwUP7Fd8F",
        "colab": {}
      },
      "source": [
        "n = 10\n",
        "f = 1/n * np.sum((y_pred3 - y)**2)"
      ],
      "execution_count": 0,
      "outputs": []
    },
    {
      "cell_type": "code",
      "metadata": {
        "colab_type": "code",
        "id": "5DKkvmkwHdOx",
        "colab": {}
      },
      "source": [
        "alpha = 1e-8\n",
        "g = alpha * (1/n * 2 * np.sum(X[0] * (W[0] * X[0] - y)))"
      ],
      "execution_count": 0,
      "outputs": []
    },
    {
      "cell_type": "code",
      "metadata": {
        "colab_type": "code",
        "id": "ZVRCF5P2MYI6",
        "outputId": "6747eb01-d7ec-403c-cfe0-e169de7bbf37",
        "colab": {
          "base_uri": "https://localhost:8080/",
          "height": 34
        }
      },
      "source": [
        "W[0] - g\n"
      ],
      "execution_count": 28,
      "outputs": [
        {
          "output_type": "execute_result",
          "data": {
            "text/plain": [
              "47.2321430605"
            ]
          },
          "metadata": {
            "tags": []
          },
          "execution_count": 28
        }
      ]
    },
    {
      "cell_type": "markdown",
      "metadata": {
        "colab_type": "text",
        "id": "huXrhXQsZTMt"
      },
      "source": [
        "1. Подберите скорость обучения (alpha) и количество итераций:"
      ]
    },
    {
      "cell_type": "code",
      "metadata": {
        "colab_type": "code",
        "id": "VEXjDozNHdAo",
        "outputId": "132694c3-68e4-49d6-e819-40686337c090",
        "colab": {
          "base_uri": "https://localhost:8080/",
          "height": 34
        }
      },
      "source": [
        "n = X.shape[1]\n",
        "alpha = 1e-2\n",
        "W = np.array([1, 0.5])\n",
        "W, alpha"
      ],
      "execution_count": 29,
      "outputs": [
        {
          "output_type": "execute_result",
          "data": {
            "text/plain": [
              "(array([1. , 0.5]), 0.01)"
            ]
          },
          "metadata": {
            "tags": []
          },
          "execution_count": 29
        }
      ]
    },
    {
      "cell_type": "code",
      "metadata": {
        "colab_type": "code",
        "id": "IDB22MQKMYaJ",
        "outputId": "0ff3e463-f87d-40d0-e6f3-92372ab07961",
        "colab": {
          "base_uri": "https://localhost:8080/",
          "height": 187
        }
      },
      "source": [
        "for i in range(1000):\n",
        "  y_pred = np.dot(W, X)\n",
        "  err = calc_mse(y, y_pred)\n",
        "  for ii in range(W.shape[0]):\n",
        "    W[ii] -= alpha * (1/n * 2 * np.sum(X[ii] * (y_pred - y)))\n",
        "  if i % 100 == 0:\n",
        "    print(i, W, err)"
      ],
      "execution_count": 30,
      "outputs": [
        {
          "output_type": "stream",
          "text": [
            "0 [2.102 3.9  ] 3173.15\n",
            "100 [31.88770806  6.74418155] 175.19445858001853\n",
            "200 [41.83683774  4.90699865] 61.9177717428135\n",
            "300 [45.33508261  4.26102097] 47.913169919666785\n",
            "400 [46.56511152  4.03388672] 46.181755648107604\n",
            "500 [46.99760587  3.95402334] 45.96769776787538\n",
            "600 [47.14967657  3.92594232] 45.941233404700036\n",
            "700 [47.20314662  3.91606866] 45.93796156758051\n",
            "800 [47.2219474   3.91259695] 45.93755706443538\n",
            "900 [47.228558    3.91137626] 45.937507054979434\n"
          ],
          "name": "stdout"
        }
      ]
    },
    {
      "cell_type": "markdown",
      "metadata": {
        "colab_type": "text",
        "id": "5Qu1o4JhZYwI"
      },
      "source": [
        "*2. В этом коде мы избавляемся от итераций по весам, но тут есть ошибка, исправьте ее:   "
      ]
    },
    {
      "cell_type": "code",
      "metadata": {
        "id": "EQO0-_YPbCRH",
        "colab_type": "code",
        "colab": {
          "base_uri": "https://localhost:8080/",
          "height": 34
        },
        "outputId": "d3f5349e-728f-44db-f804-e7cd4d53c7b1"
      },
      "source": [
        "n = X.shape[1]\n",
        "alpha = 1e-2\n",
        "W = np.array([1, 0.5])\n",
        "W, alpha"
      ],
      "execution_count": 37,
      "outputs": [
        {
          "output_type": "execute_result",
          "data": {
            "text/plain": [
              "(array([1. , 0.5]), 0.01)"
            ]
          },
          "metadata": {
            "tags": []
          },
          "execution_count": 37
        }
      ]
    },
    {
      "cell_type": "markdown",
      "metadata": {
        "id": "ctO2oz7rc1xp",
        "colab_type": "text"
      },
      "source": [
        "надо было вписать в функцию sum(, axis=1), не общую сумму а по столбцам брать"
      ]
    },
    {
      "cell_type": "code",
      "metadata": {
        "colab_type": "code",
        "id": "WZZzDCQLY4pA",
        "outputId": "cda75b93-96a4-4bad-b513-78006b3141f8",
        "colab": {
          "base_uri": "https://localhost:8080/",
          "height": 187
        }
      },
      "source": [
        "for i in range(1000):\n",
        "  y_pred = np.dot(W, X)\n",
        "  err = calc_mse(y, y_pred)\n",
        "  '''for ii in range(W.shape[0]):\n",
        "    W[ii] -= alpha * (1/n * 2 * np.sum(X[ii] * (y_pred - y)))'''\n",
        "  W -= (alpha * (1/n * 2 * np.sum(X * (y_pred - y), axis=1)))\n",
        "  if i % 100 == 0:\n",
        "    print(i, W, err)"
      ],
      "execution_count": 38,
      "outputs": [
        {
          "output_type": "stream",
          "text": [
            "0 [2.102 3.9  ] 3173.15\n",
            "100 [31.88770806  6.74418155] 175.19445858001853\n",
            "200 [41.83683774  4.90699865] 61.9177717428135\n",
            "300 [45.33508261  4.26102097] 47.913169919666785\n",
            "400 [46.56511152  4.03388672] 46.181755648107604\n",
            "500 [46.99760587  3.95402334] 45.96769776787538\n",
            "600 [47.14967657  3.92594232] 45.941233404700036\n",
            "700 [47.20314662  3.91606866] 45.93796156758051\n",
            "800 [47.2219474   3.91259695] 45.93755706443538\n",
            "900 [47.228558    3.91137626] 45.937507054979434\n"
          ],
          "name": "stdout"
        }
      ]
    },
    {
      "cell_type": "code",
      "metadata": {
        "colab_type": "code",
        "id": "_OQ4arrXMYGb",
        "colab": {}
      },
      "source": [
        "def train(X, y, W, B, alpha, max_iters):\n",
        "'''\n",
        "Performs GD on all training examples,\n",
        "X: Training data set,\n",
        "y: Labels for training data,\n",
        "W: Weights vector,\n",
        "B: Bias variable,\n",
        "alpha: The learning rate,\n",
        "max_iters: Maximum GD iterations.\n",
        "'''\n",
        "dW = 0 # Weights gradient accumulator\n",
        "dB = 0 # Bias gradient accumulator\n",
        "m = X.shape[0] # No. of training examples\n",
        "for i in range(max_iters):\n",
        "dW = 0 # Reseting the accumulators\n",
        "dB = 0\n",
        "for j in range(m):\n",
        "# 1. Iterate over all examples,\n",
        "# 2. Compute gradients of the weights and biases in w_grad and b_grad,\n",
        "# 3. Update dW by adding w_grad and dB by adding b_grad,\n",
        "W = W - alpha * (dW / m) # Update the weights\n",
        "B = B - alpha * (dB / m) # Update the bias return W, B # Return the updated weights and bias."
      ],
      "execution_count": 0,
      "outputs": []
    }
  ]
}